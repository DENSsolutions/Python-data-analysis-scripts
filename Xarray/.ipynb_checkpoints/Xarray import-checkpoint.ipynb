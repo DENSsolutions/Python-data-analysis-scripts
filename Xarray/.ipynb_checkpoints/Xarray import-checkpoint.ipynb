{
 "cells": [
  {
   "cell_type": "code",
   "execution_count": null,
   "metadata": {},
   "outputs": [],
   "source": [
    "import xarray as xr\n",
    "import csv\n",
    "from pathlib import Path\n",
    "import os\n",
    "import pandas as pd\n",
    "\n",
    "impulseLogfilePath = Path(\"LOGFILE PATH GOES HERE\")\n",
    "impulseDF = pd.read_csv(impulseLogfilePath, infer_datetime_format=True)\n",
    "\n",
    "dataVars = {}\n",
    "\n",
    "for column in impulseDF.columns[2:]:\n",
    "    columnName = column.replace(\" \",\"_\")\n",
    "    dataVars[columnName]= xr.DataArray(impulseDF[column], dims=(\"Experiment_time\"), coords={\"Experiment_time\":impulseDF['Experiment time'].tolist()})\n",
    "\n",
    "impulseXR = xr.Dataset(\n",
    "                    data_vars=dataVars,\n",
    "                    coords={\n",
    "                        \"Experiment_time\": impulseDF['Experiment time'].tolist()\n",
    "                    },\n",
    "                    attrs={\n",
    "                        \"Logfile\":os.path.splitext(impulseLogfilePath.name)[0],\n",
    "                        \"Folder\":os.path.dirname(impulseLogfilePath)\n",
    "                    }\n",
    "                )\n",
    "\n",
    "impulseXR"
   ]
  },
  {
   "cell_type": "code",
   "execution_count": null,
   "metadata": {},
   "outputs": [],
   "source": [
    "impulseXR.Temperature_Measured.sel(Experiment_time=slice(2000, 4000)).plot()"
   ]
  }
 ],
 "metadata": {
  "kernelspec": {
   "display_name": "Python 3",
   "language": "python",
   "name": "python3"
  },
  "language_info": {
   "codemirror_mode": {
    "name": "ipython",
    "version": 3
   },
   "file_extension": ".py",
   "mimetype": "text/x-python",
   "name": "python",
   "nbconvert_exporter": "python",
   "pygments_lexer": "ipython3",
   "version": "3.8.5"
  }
 },
 "nbformat": 4,
 "nbformat_minor": 5
}
