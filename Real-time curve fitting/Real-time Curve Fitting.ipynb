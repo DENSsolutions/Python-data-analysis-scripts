{
 "cells": [
  {
   "cell_type": "markdown",
   "metadata": {},
   "source": [
    "## Example Experiment: Real-time curve fitting\n",
    "\n",
    "This script takes 20 random bias measurements at different random setpoints and fits a curve (in real-time) to the relationship between voltage and current. It then applies calculated voltages to reach certain currents and prints the goal and measured results.\n"
   ]
  },
  {
   "cell_type": "code",
   "execution_count": null,
   "metadata": {},
   "outputs": [],
   "source": [
    "# Import our libraries\n",
    "import impulsePy as impulse\n",
    "import numpy as np\n",
    "from random import randrange\n",
    "from time import sleep\n",
    "import matplotlib.pyplot as plt\n",
    "from scipy import optimize\n",
    "\n",
    "# The line below opens the graph in a separate window (required for live updating)\n",
    "%matplotlib qt\n",
    "\n",
    "# Subscribe to data and event streams\n",
    "impulse.bias.data.subscribe()\n",
    "impulse.gas.data.subscribe()\n",
    "\n",
    "impulse.waitForControl() # Wait until impulse is in control mode\n",
    "sleep(2) # Wait for some data to come in"
   ]
  },
  {
   "cell_type": "code",
   "execution_count": null,
   "metadata": {},
   "outputs": [],
   "source": [
    "#Voltage versus Current\n",
    "def xparameter(dataFrame):\n",
    "    xparameter = dataFrame[\"voltageMeasured\"]\n",
    "    return xparameter\n",
    "\n",
    "def yparameter(dataFrame):\n",
    "    yparameter = dataFrame[\"currentMeasured\"]\n",
    "    return yparameter\n",
    "\n",
    "xparametername = \"voltageMeasured (V)\"\n",
    "yparametername = \"currentMeasued (A)\"\n",
    "\n",
    "def curveFunc(x,a,b,c):\n",
    "    return (a*x*x) + (b*x) + c\n",
    "\n",
    "# Create graph window\n",
    "fig = plt.figure()\n",
    "fig.canvas.set_window_title('Curve fitting')\n",
    "ax = fig.add_subplot(111)\n",
    "ax.set_xlabel(xparametername)\n",
    "ax.set_ylabel(yparametername)\n",
    "plt.ion()\n",
    "plt.show()\n",
    "\n",
    "xdat = []\n",
    "ydat = []\n",
    "xcrv = []\n",
    "ycrv = []\n",
    "\n",
    "biasparams = None\n",
    "\n",
    "sc, = ax.plot(xdat,ydat, 'ro', label='Measurements')\n",
    "crv, = ax.plot(xcrv, ycrv, label='Fitted curve')\n",
    "\n",
    "impulse.bias.data.getNewData()\n",
    "impulse.bias.data.setFlag(\"starting\")\n",
    "\n",
    "for i in range(20):\n",
    "    impulse.bias.set(randrange(0,10,1),0.1)\n",
    "    sleep(0.1)\n",
    "    measurement = impulse.bias.data.getNewData()\n",
    "    xdat.append(xparameter(measurement))\n",
    "    ydat.append(yparameter(measurement))\n",
    "    sc.set_ydata(ydat)\n",
    "    sc.set_xdata(xdat)\n",
    "    if i>2:\n",
    "        dataF = impulse.bias.data.getDataFrame(\"starting\")\n",
    "        xPars = xparameter(dataF)\n",
    "        yPars = yparameter(dataF)\n",
    "        curvex = np.linspace(xPars.min(),xPars.max(),10)\n",
    "        biasparams, biasparamsCovariance = optimize.curve_fit(curveFunc,xPars,yPars)\n",
    "        crv.set_ydata(curveFunc(curvex,biasparams[0], biasparams[1], biasparams[2]))\n",
    "        crv.set_xdata(curvex)   \n",
    "    ax.relim()\n",
    "    ax.autoscale_view()\n",
    "    plt.legend(loc='best')    \n",
    "    plt.pause(0.01)\n",
    "\n",
    "currentsToCheck = [0.0005, 0.004]\n",
    "\n",
    "def curveFunca(x, target):\n",
    "    return (biasparams[0]*x[0]*x[0]) + (biasparams[1]*x[0]) + biasparams[2]-target\n",
    "\n",
    "for currentCheck in currentsToCheck:\n",
    "    setpoint = optimize.fsolve(curveFunc, [0.0], args=(biasparams[0],biasparams[1],biasparams[2]-currentCheck))\n",
    "    impulse.bias.set(setpoint[0],0.1)\n",
    "    print(f\"Current goal: {currentCheck}, voltage set: {setpoint[0]}\")\n",
    "    sleep(0.2)\n",
    "    currentMeas=impulse.bias.data.getNewData()[\"currentMeasured\"]\n",
    "    print(f\"Measured Current: {currentMeas}\")\n",
    "    sleep(1)\n"
   ]
  },
  {
   "cell_type": "code",
   "execution_count": null,
   "metadata": {},
   "outputs": [],
   "source": [
    "impulse.disconnect()"
   ]
  }
 ],
 "metadata": {
  "kernelspec": {
   "display_name": "Python 3",
   "language": "python",
   "name": "python3"
  },
  "language_info": {
   "codemirror_mode": {
    "name": "ipython",
    "version": 3
   },
   "file_extension": ".py",
   "mimetype": "text/x-python",
   "name": "python",
   "nbconvert_exporter": "python",
   "pygments_lexer": "ipython3",
   "version": "3.9.1"
  }
 },
 "nbformat": 4,
 "nbformat_minor": 4
}
